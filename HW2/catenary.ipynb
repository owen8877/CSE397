{
 "cells": [
  {
   "cell_type": "markdown",
   "id": "5ca57f69",
   "metadata": {},
   "source": [
    "# Computational and Variational Methods for Inverse Problems\n",
    "\n",
    "## Assignment 2: Optimization methods and automatic differentiation\n",
    "\n",
    "### (Notebook outline for problems 2, 3, and 4)\n",
    "\n",
    "### Your name:\n",
    "Ziheng Chen (zc5282)"
   ]
  },
  {
   "cell_type": "markdown",
   "id": "431ceebb",
   "metadata": {},
   "source": [
    "## Dependencies:\n",
    "\n",
    " - numpy\n",
    " - scipy\n",
    " - matplotlib\n",
    " - autograd (https://github.com/HIPS/autograd)"
   ]
  },
  {
   "cell_type": "code",
   "execution_count": 1,
   "id": "4e06923b",
   "metadata": {},
   "outputs": [],
   "source": [
    "import autograd.numpy as np\n",
    "import matplotlib.pyplot as plt\n",
    "from autograd import grad, jacobian\n",
    "from scipy import optimize\n",
    "from tqdm import tqdm"
   ]
  },
  {
   "cell_type": "markdown",
   "id": "69709ac9",
   "metadata": {},
   "source": [
    "# 2) Discretized length and energy functionals\n",
    "\n",
    "In this problem you will write code to compute the length functional $L(u)$ and energy functional $E(u)$ from problem 1, for continuous piecewise linear functions $u:[0,1]\\rightarrow \\mathbb{R}$ with equally spaced nodes. We assume that $u$ has $N+2$ equally spaced nodes at locations\n",
    "$$0, h, 2h, 3h, \\dots, Nh, 1$$\n",
    "and that $u$ takes specified values at the nodes, and is piecewise linear in the intervals (\"cells\") between these nodes."
   ]
  },
  {
   "cell_type": "markdown",
   "id": "cc69e4d0",
   "metadata": {},
   "source": [
    "## 2a) Spatial derivative of piecewise linear function\n",
    "Let $u(x)$ be a continuous piecewise linear function on $[0,1]$, with $N+2$ equally spaced nodes (including endpoints). The spatial derivative $\\frac{du}{dx}$ is piecewise constant on the $N+1$ cells between neighboring nodes. An example of this is shown below."
   ]
  },
  {
   "cell_type": "code",
   "execution_count": 2,
   "id": "02094d39",
   "metadata": {},
   "outputs": [
    {
     "data": {
      "text/plain": "Text(0.5, 1.0, 'du/dx')"
     },
     "execution_count": 2,
     "metadata": {},
     "output_type": "execute_result"
    },
    {
     "data": {
      "text/plain": "<Figure size 576x288 with 2 Axes>",
      "image/png": "[encoded data removed]"
     },
     "metadata": {
      "needs_background": "light"
     },
     "output_type": "display_data"
    }
   ],
   "source": [
    "nodes = np.linspace(0.0, 1.0, 5)\n",
    "u_at_nodes = np.array([0.0, 1.0, -0.5, 0.25, 0.0])\n",
    "\n",
    "cell_centers = 0.5 * (nodes[1:] + nodes[:-1])\n",
    "du_dx_in_cells = np.array([4., -6., 3., -1.])\n",
    "\n",
    "plt.figure(figsize=(8, 4))\n",
    "plt.subplot(1, 2, 1)\n",
    "plt.plot(nodes, u_at_nodes)\n",
    "plt.plot(nodes, u_at_nodes, '.r')\n",
    "plt.title('u')\n",
    "\n",
    "plt.subplot(1, 2, 2)\n",
    "plt.plot(nodes, np.concatenate([du_dx_in_cells, [-1]]), drawstyle='steps-post')\n",
    "plt.plot(cell_centers, du_dx_in_cells, '*g')\n",
    "plt.title('du/dx')"
   ]
  },
  {
   "cell_type": "markdown",
   "id": "eee0bdf6",
   "metadata": {},
   "source": [
    "### Your task:\n",
    "Write a function called \"spatial\\_derivative\" that takes the length-$(N+2)$ vector of nodal values for $u$ as input, and returns the length-$N+1$ vector of cell values of $\\frac{du}{dx}$ as output."
   ]
  },
  {
   "cell_type": "code",
   "execution_count": 3,
   "id": "b8aed023",
   "metadata": {},
   "outputs": [],
   "source": [
    "def spatial_derivative(u_at_nodes):\n",
    "    N = len(u_at_nodes) - 2\n",
    "    h = 1 / (N + 1)\n",
    "    du_dx_in_cells = (u_at_nodes[1:] - u_at_nodes[:-1]) / h\n",
    "    return du_dx_in_cells"
   ]
  },
  {
   "cell_type": "markdown",
   "id": "811a4b38",
   "metadata": {},
   "source": [
    "### Test:\n",
    "Error should be close to machine epsilon (around $10^{-14}$ or smaller)"
   ]
  },
  {
   "cell_type": "code",
   "execution_count": 4,
   "id": "7a6b7432",
   "metadata": {},
   "outputs": [
    {
     "name": "stdout",
     "output_type": "stream",
     "text": [
      "spatial_derivative_error= 5.7044291861996796e-15\n"
     ]
    }
   ],
   "source": [
    "u = np.array([0.25, -0.66, 0.70, -0.41, -1.02, 0.57, 0.13, -1.27, 0.83, -1.21])\n",
    "du_dx_true = np.array([-8.19, 12.24, -9.99, -5.49, 14.31, -3.96, -12.6, 18.9, -18.36])\n",
    "\n",
    "du_dx = spatial_derivative(u)\n",
    "spatial_derivative_error = np.linalg.norm(du_dx - du_dx_true)\n",
    "print('spatial_derivative_error=', spatial_derivative_error)"
   ]
  },
  {
   "cell_type": "markdown",
   "id": "53afb2b0",
   "metadata": {},
   "source": [
    "## 2b) Arc length function\n",
    "\n",
    "In Problem 1 you showed that the arc length of a function $u:[0,1]\\rightarrow \\mathbb{R}$ is given by\n",
    "$$L(u) = \\int_0^1 \\sqrt{1 + \\left(\\frac{du}{dx}(x)\\right)^2}  dx$$\n",
    "\n",
    "### Your task:\n",
    "Let $u$ be a continuous piecewise linear function on $[0,1]$, with $N+2$ equally spaced nodes, including endpoints (the same setup as in 2a). Write a function called \"length\\_functional\" that takes the vector of $N+2$ nodal values of $u$ as input, and returns the arc length of $u$ as output.\n",
    "\n",
    "#### Hint:\n",
    "The integrand is a piecewise constant function."
   ]
  },
  {
   "cell_type": "code",
   "execution_count": 5,
   "id": "be4d1896",
   "metadata": {},
   "outputs": [],
   "source": [
    "def length_functional(u_at_nodes):\n",
    "    N = len(u_at_nodes) - 2\n",
    "    h = 1 / (N + 1)\n",
    "    du_dx_in_cells = spatial_derivative(u_at_nodes)\n",
    "    L = h * np.sqrt(1 + du_dx_in_cells ** 2).sum()\n",
    "    return L"
   ]
  },
  {
   "cell_type": "markdown",
   "id": "4e54c66b",
   "metadata": {},
   "source": [
    "### Test\n",
    "Error should be close to machine epsilon (around $10^{-14}$ or smaller)"
   ]
  },
  {
   "cell_type": "code",
   "execution_count": 6,
   "id": "e54f424f",
   "metadata": {},
   "outputs": [
    {
     "name": "stdout",
     "output_type": "stream",
     "text": [
      "length_functional_error= 0.0\n"
     ]
    }
   ],
   "source": [
    "xx = np.linspace(0.0, 1.0, 100)\n",
    "u = np.sqrt(1.0 / 2.0 - np.power(xx - 0.5, 2))\n",
    "L_true = 1.1107087105088733\n",
    "\n",
    "L = length_functional(u)\n",
    "length_functional_error = np.abs(L - L_true)\n",
    "print('length_functional_error=', length_functional_error)"
   ]
  },
  {
   "cell_type": "markdown",
   "id": "2d261e73",
   "metadata": {},
   "source": [
    "## 2c) Energy functional\n",
    "\n",
    "Let $u$ be the height of an idealized hanging chain, and for convenience let the linear density of the chain be $\\rho=1/g$, where the $g$ is the gravitational constant. From Problem 1 we know that the potential energy functional for such a hanging chain is given by\n",
    "$$E(u) = \\int_0^1 u(x) \\sqrt{1 + \\left(\\frac{du}{dx}(x)\\right)^2}  dx.$$\n",
    "\n",
    "### Your task\n",
    "Write a function named \"energy\\_functional\" that takes as input the length $N+2$ vector of nodal values for a continuous piecewise linear function $u$ on $[0,1]$ as input (including values at the endpoints, as in 2a and 2b), and returns the energy functional $E(u)$ as output.\n",
    "\n",
    "#### Hint:\n",
    "The integrand is a **discontinuous** piecewise linear function because it is the product of a continuous piecewise linear function with a piecewise constant function."
   ]
  },
  {
   "cell_type": "code",
   "execution_count": 7,
   "id": "cb82eecf",
   "metadata": {},
   "outputs": [],
   "source": [
    "def energy_functional(u_at_nodes):\n",
    "    N = len(u_at_nodes) - 2\n",
    "    h = 1 / (N + 1)\n",
    "    u_mid = (u_at_nodes[1:] + u_at_nodes[:-1]) / 2\n",
    "    du_dx_in_cells = spatial_derivative(u_at_nodes)\n",
    "    E = h * (u_mid * np.sqrt(du_dx_in_cells ** 2 + 1)).sum()\n",
    "    return E"
   ]
  },
  {
   "cell_type": "markdown",
   "id": "bbadf743",
   "metadata": {},
   "source": [
    "### Test\n",
    "Error should be close to machine epsilon (around $10^{-14}$ or smaller)"
   ]
  },
  {
   "cell_type": "code",
   "execution_count": 8,
   "id": "9db97e00",
   "metadata": {},
   "outputs": [
    {
     "name": "stdout",
     "output_type": "stream",
     "text": [
      "energy_functional_error= 0.0\n"
     ]
    }
   ],
   "source": [
    "xx = np.linspace(0.0, 1.0, 75)\n",
    "u = -np.sin(np.pi * xx)\n",
    "E_true = -1.2379425688273515\n",
    "\n",
    "E = energy_functional(u)\n",
    "energy_functional_error = np.abs(E - E_true)\n",
    "print('energy_functional_error=', energy_functional_error)"
   ]
  },
  {
   "cell_type": "markdown",
   "id": "2c1dabb2",
   "metadata": {},
   "source": [
    "# 3)  Objective function, Gradient, and Hessian\n",
    "\n",
    "In problem 1 we saw that the hanging chain problem may be written as the following constrained optimization problem:\n",
    "\n",
    "\\begin{align}\n",
    "\\min_u &\\quad E(u) \\\\\n",
    "\\text{such that} &\\quad L(u) = L_0.\n",
    "\\end{align}\n",
    "\n",
    "We may find approximate solutions to this problem by solving the following unconstrained optimization problem,\n",
    "$$\\min_u E(u) + \\alpha (L(u) - L_0)^2$$\n",
    "where we use a quadratic penalty to approximately enforce the constraint. Here $\\alpha > 0$ is a penalty parameter; as $\\alpha \\rightarrow \\infty$, the solution to the unconstrained optimization problem approaches the solution of the constrained optimization problem.\n",
    "\n",
    "Let\n",
    "$$J(u) := E(u) + \\alpha (L(u) - L_0)^2$$\n",
    "denote the unconstrained objective function. In this problem, you will implement this objective function for continuous piecewise linear functions with equally spaced nodes, and use **automatic differentiation** to compute the gradient of $J$, the Hessian of $J$, and matrix-vector products of the Hessian of $J$ with arbitrary vectors. You will also compare the gradient and Hessian of $J$ to approximate gradients and Hessians computed with finite differences with a variety of step sizes.\n",
    "\n",
    "## Objective function\n",
    "The objective function may be written as follows, using your energy and length functional code from the previous problem. Note that the objective function only operates on the $N$ interior nodes for $u$, since the endpoints of $u$ are fixed at zero."
   ]
  },
  {
   "cell_type": "code",
   "execution_count": 9,
   "id": "8b66a5d8",
   "metadata": {},
   "outputs": [],
   "source": [
    "def objective_function(u_at_interior_nodes, alpha, L0):\n",
    "    u_at_nodes = np.hstack([np.array([0.0]),\n",
    "                            u_at_interior_nodes,\n",
    "                            np.array([0.0])])\n",
    "\n",
    "    E = energy_functional(u_at_nodes)\n",
    "    L = length_functional(u_at_nodes)\n",
    "    J = E + alpha * np.power(L - L0, 2)\n",
    "    return J"
   ]
  },
  {
   "cell_type": "markdown",
   "id": "ec7b3922",
   "metadata": {},
   "source": [
    "If you were unable to complete the previous problem, you may uncomment the following (intentionally obfsucated) implementation and use it instead:"
   ]
  },
  {
   "cell_type": "code",
   "execution_count": 10,
   "id": "e6fda939",
   "metadata": {},
   "outputs": [],
   "source": [
    "# def objective_function(u_at_interior_vertices, alpha, L0):\n",
    "#     u = np.concatenate([np.array([0]),\n",
    "#                         u_at_interior_vertices,\n",
    "#                         np.array([0])])\n",
    "#     a = 1./(len(u)-1.)\n",
    "#     b, c = (u[1:]-u[:-1])/a, 0.5*(u[1:] + u[:-1])\n",
    "#     return a*np.sum(c*np.sqrt(1.+np.power(b,2)))+alpha*np.power(a*np.sum(np.sqrt(1.+np.power(b,2)))-L0,2)"
   ]
  },
  {
   "cell_type": "markdown",
   "id": "41540008",
   "metadata": {},
   "source": [
    "## 3a) Gradient via automatic differentiation\n",
    "\n",
    "Here we will use the \"grad\" function in the python automatic differentiation tool **autograd** to compute the gradient of your objective function. Here is a quick example of how to use it. More details can be found here:\n",
    "https://github.com/HIPS/autograd/blob/master/docs/tutorial.md\n",
    "\n",
    "### autodiff grad example"
   ]
  },
  {
   "cell_type": "code",
   "execution_count": 11,
   "id": "9d9f4533",
   "metadata": {},
   "outputs": [
    {
     "name": "stdout",
     "output_type": "stream",
     "text": [
      "autodiff_error= 0.0\n"
     ]
    }
   ],
   "source": [
    "def f(x, a, b):\n",
    "    return np.cos(a * x[0]) + np.sin(b * x[1])\n",
    "\n",
    "\n",
    "grad_autodiff = grad(f, 0)  # 0 indicates differentiation w.r.t. the first argument of f.\n",
    "\n",
    "x = np.random.randn(2)\n",
    "a = 1.3\n",
    "b = -2.1\n",
    "grad_at_x_autodiff = grad_autodiff(x, a, b)\n",
    "\n",
    "grad_at_x_analytic = np.array([- a * np.sin(a * x[0]),\n",
    "                               b * np.cos(b * x[1])])\n",
    "\n",
    "autodiff_error = np.linalg.norm(grad_at_x_analytic - grad_at_x_autodiff)\n",
    "print('autodiff_error=', autodiff_error)"
   ]
  },
  {
   "cell_type": "markdown",
   "id": "0140367e",
   "metadata": {},
   "source": [
    "### Your task:\n",
    "Use automatic differentiation to create a function named \"compute\\_gradient\" that computes the gradient of the objective function, $g$, at a given $u$ for a given penalty parameter $\\alpha$ and chain length $L_0$.\n",
    "\n",
    "### Hint:\n",
    "The code is a one-liner"
   ]
  },
  {
   "cell_type": "code",
   "execution_count": 12,
   "id": "a4a1d3d0",
   "metadata": {},
   "outputs": [],
   "source": [
    "# Construct the function compute_gradient(u_at_interior_nodes, alpha, L0)\n",
    "def compute_gradient(u_at_interior_nodes, alpha, L0):\n",
    "    return grad(objective_function, 0)(u_at_interior_nodes, alpha, L0)"
   ]
  },
  {
   "cell_type": "markdown",
   "id": "af317937",
   "metadata": {},
   "source": [
    "### Finite difference check:\n",
    "On one hand, the directional derivative of $J$ in direction $p$ may be computed from the gradient at $u$, $g(u)$, as follows:\n",
    "$$\\frac{d J}{d u}(u) p = g(u)^T p.$$\n",
    "On the other hand, we may approximate the directional derivative via finite differences\n",
    "$$\\frac{d J}{du}(u) p \\approx \\frac{J(u + s p) - J(u)}{s}$$\n",
    "where $s$ is some small scalar.\n",
    "\n",
    "This allows us to check our gradient by choosing a random direction $p$, and comparing the result of computing $\\frac{d J}{d u}(u) p$ in these two different ways. \n",
    "\n",
    "The error should be roughly the same order of magnitude as the step size."
   ]
  },
  {
   "cell_type": "code",
   "execution_count": 13,
   "id": "ea5637fb",
   "metadata": {},
   "outputs": [
    {
     "name": "stdout",
     "output_type": "stream",
     "text": [
      "step size= 1e-07 , gradient finite difference error= 6.593787950678388e-07\n"
     ]
    }
   ],
   "source": [
    "N = 53\n",
    "alpha = 8.95\n",
    "L0 = 2.13\n",
    "u1 = np.random.randn(N)\n",
    "J1 = objective_function(u1, alpha, L0)\n",
    "\n",
    "p = np.random.randn(N)\n",
    "s = 1e-7  # step size\n",
    "u2 = u1 + s * p\n",
    "\n",
    "J2 = objective_function(u2, alpha, L0)\n",
    "dJ_du_p_diff = (J2 - J1) / s\n",
    "\n",
    "g = compute_gradient(u1, alpha, L0)\n",
    "dJ_du_p = np.dot(g, p)\n",
    "\n",
    "grad_err = np.abs((dJ_du_p - dJ_du_p_diff) / dJ_du_p_diff)\n",
    "print('step size=', s, ', gradient finite difference error=', grad_err)"
   ]
  },
  {
   "cell_type": "markdown",
   "id": "9cd6ca9d",
   "metadata": {},
   "source": [
    "## 3b) Gradient finite difference plot\n",
    "\n",
    "It is good practice to check your gradient with finite difference checks for a wide range of step sizes $s$, and make a log-log plot of the finite difference error as a function of $s$. If your gradient is working correctly, the resulting plot should look like a 'V', where the error decreases linearly from $s=10^0$ until somewhere around $s=10^{-5}$ to $s=10^{-9}$, then goes up again and/or becomes jagged.\n",
    "\n",
    "### Example finite difference plot"
   ]
  },
  {
   "cell_type": "code",
   "execution_count": 14,
   "id": "40c6da61",
   "metadata": {},
   "outputs": [
    {
     "name": "stdout",
     "output_type": "stream",
     "text": [
      "step size= 1.0 , example gradient finite difference error= 4.350528738457639\n",
      "step size= 0.1 , example gradient finite difference error= 0.13156229707598632\n",
      "step size= 0.01 , example gradient finite difference error= 0.011479637013086253\n",
      "step size= 0.001 , example gradient finite difference error= 0.0011333175842981188\n",
      "step size= 0.0001 , example gradient finite difference error= 0.00011318714149722931\n",
      "step size= 1e-05 , example gradient finite difference error= 1.131727907205764e-05\n",
      "step size= 1e-06 , example gradient finite difference error= 1.1315408097496606e-06\n",
      "step size= 1e-07 , example gradient finite difference error= 1.1252218669450234e-07\n",
      "step size= 1e-08 , example gradient finite difference error= 1.1693150615754554e-08\n",
      "step size= 1e-09 , example gradient finite difference error= 1.0891453985561664e-08\n",
      "step size= 1e-10 , example gradient finite difference error= 1.1183375208907357e-06\n",
      "step size= 1e-11 , example gradient finite difference error= 1.1183375210036585e-06\n",
      "step size= 1e-12 , example gradient finite difference error= 4.6285405346657635e-05\n",
      "step size= 1e-13 , example gradient finite difference error= 0.0004977317776241535\n"
     ]
    },
    {
     "data": {
      "text/plain": "<Figure size 432x288 with 1 Axes>",
      "image/png": "[encoded data removed]"
     },
     "metadata": {
      "needs_background": "light"
     },
     "output_type": "display_data"
    }
   ],
   "source": [
    "def f(x):\n",
    "    return np.sin(x[0]) + np.cos(x[1])\n",
    "\n",
    "\n",
    "def df_dx(x):\n",
    "    return np.array([np.cos(x[0]), -np.sin(x[1])])\n",
    "\n",
    "\n",
    "x1 = np.random.randn(2)\n",
    "p = np.random.randn(2)\n",
    "step_sizes = [1e0, 1e-1, 1e-2, 1e-3, 1e-4, 1e-5, 1e-6, 1e-7, 1e-8, 1e-9, 1e-10, 1e-11, 1e-12, 1e-13]\n",
    "\n",
    "f1 = f(x1)\n",
    "g1 = df_dx(x1)\n",
    "df_dx_p = np.dot(g1, p)\n",
    "\n",
    "grad_errs = list()\n",
    "for s in step_sizes:\n",
    "    x2 = x1 + s * p\n",
    "\n",
    "    f2 = f(x2)\n",
    "    df_dx_p_diff = (f2 - f1) / s\n",
    "\n",
    "    grad_err = np.abs((df_dx_p - df_dx_p_diff) / df_dx_p_diff)\n",
    "    print('step size=', s, ', example gradient finite difference error=', grad_err)\n",
    "\n",
    "    grad_errs.append(grad_err)\n",
    "\n",
    "plt.loglog(step_sizes, grad_errs)\n",
    "plt.title('Example finite difference gradient check')\n",
    "plt.xlabel('step size')\n",
    "plt.ylabel('error')\n",
    "\n",
    "plt.savefig('3b.eps')"
   ]
  },
  {
   "cell_type": "markdown",
   "id": "24170c48",
   "metadata": {},
   "source": [
    "### Your task:\n",
    "Perform finite difference checks on the hanging chain gradient for a wide range  of step sizes $s$, and make a log-log plot of the finite difference error as a function of $s$. See 3a for an example of a finite difference check for a single step size."
   ]
  },
  {
   "cell_type": "code",
   "execution_count": 15,
   "id": "f9051ac4",
   "metadata": {},
   "outputs": [
    {
     "name": "stdout",
     "output_type": "stream",
     "text": [
      "step size= 1.0 , example gradient finite difference error= 0.5707562564993071\n",
      "step size= 0.1 , example gradient finite difference error= 0.07288233458779578\n",
      "step size= 0.01 , example gradient finite difference error= 0.008469629437084736\n",
      "step size= 0.001 , example gradient finite difference error= 0.0009113412780260756\n",
      "step size= 0.0001 , example gradient finite difference error= 9.1758500536369e-05\n",
      "step size= 1e-05 , example gradient finite difference error= 9.182088461860178e-06\n",
      "step size= 1e-06 , example gradient finite difference error= 9.178001138174299e-07\n",
      "step size= 1e-07 , example gradient finite difference error= 1.0124809506321934e-07\n",
      "step size= 1e-08 , example gradient finite difference error= 7.890965572361597e-08\n",
      "step size= 1e-09 , example gradient finite difference error= 1.888923826637634e-07\n",
      "step size= 1e-10 , example gradient finite difference error= 2.1365392570212684e-06\n",
      "step size= 1e-11 , example gradient finite difference error= 5.1426514321086844e-05\n",
      "step size= 1e-12 , example gradient finite difference error= 0.0003680526357211398\n",
      "step size= 1e-13 , example gradient finite difference error= 0.009216516983358968\n"
     ]
    },
    {
     "data": {
      "text/plain": "Text(0, 0.5, 'error')"
     },
     "execution_count": 15,
     "metadata": {},
     "output_type": "execute_result"
    },
    {
     "data": {
      "text/plain": "<Figure size 432x288 with 1 Axes>",
      "image/png": "[encoded data removed]"
     },
     "metadata": {
      "needs_background": "light"
     },
     "output_type": "display_data"
    }
   ],
   "source": [
    "N = 53\n",
    "alpha = 8.95\n",
    "L0 = 2.13\n",
    "u1 = np.random.randn(N)\n",
    "p = np.random.randn(N)\n",
    "step_sizes = [1e0, 1e-1, 1e-2, 1e-3, 1e-4, 1e-5, 1e-6, 1e-7, 1e-8, 1e-9, 1e-10, 1e-11, 1e-12, 1e-13]\n",
    "\n",
    "# Make log-log plot of gradient finite difference error vs. step size\n",
    "\n",
    "J1 = objective_function(u1, alpha, L0)\n",
    "dJ1 = compute_gradient(u1, alpha, L0)\n",
    "dJ_dx_p = np.dot(dJ1, p)\n",
    "\n",
    "grad_errs = list()\n",
    "for s in step_sizes:\n",
    "    u2 = u1 + s * p\n",
    "\n",
    "    J2 = objective_function(u2, alpha, L0)\n",
    "    dJ_dx_p_diff = (J2 - J1) / s\n",
    "\n",
    "    grad_err = np.abs((dJ_dx_p - dJ_dx_p_diff) / dJ_dx_p_diff)\n",
    "    print('step size=', s, ', example gradient finite difference error=', grad_err)\n",
    "\n",
    "    grad_errs.append(grad_err)\n",
    "\n",
    "plt.loglog(step_sizes, grad_errs)\n",
    "plt.title('Example finite difference gradient check')\n",
    "plt.xlabel('step size')\n",
    "plt.ylabel('error')"
   ]
  },
  {
   "cell_type": "markdown",
   "id": "ad554e95",
   "metadata": {},
   "source": [
    "## 3c) Hessian-vector product via automatic differentiation\n",
    "\n",
    "The Hessian is the derivative of the gradient, so the matrix-vector multiplication $H(u)p$ of the Hessian at $u$, $H(u)$, with a vector, $p$ is given by\n",
    "$$H(u)p = \\frac{d}{du} \\left(\\frac{d J}{du}(u) p\\right) = \\frac{d}{du} \\left(g(u)^T p\\right).$$\n",
    "In other words, $H(u) p$ is the gradient of the scalar-valued function\n",
    "$$q(u) := g(u)^T p,$$\n",
    "and this gradient may be calculated by automatic differentiation.\n",
    "\n",
    "### Example:"
   ]
  },
  {
   "cell_type": "code",
   "execution_count": 16,
   "id": "0552f767",
   "metadata": {},
   "outputs": [
    {
     "name": "stdout",
     "output_type": "stream",
     "text": [
      "example hessian vector product error= 0.0\n"
     ]
    }
   ],
   "source": [
    "def f(x, a, b):\n",
    "    return np.cos(a * x[0]) + np.sin(b * x[1])\n",
    "\n",
    "\n",
    "compute_grad_f = grad(f, 0)\n",
    "\n",
    "\n",
    "def q(x, p, a, b):\n",
    "    g = compute_grad_f(x, a, b)\n",
    "    return np.dot(g, p)\n",
    "\n",
    "\n",
    "hessian_vector_product_f = grad(q, 0)\n",
    "\n",
    "a = 1.4\n",
    "b = 4.1\n",
    "x = np.random.randn(2)\n",
    "p = np.random.randn(2)\n",
    "\n",
    "Hp_autodiff = hessian_vector_product_f(x, p, a, b)\n",
    "\n",
    "H_analytic = np.array([[-a * a * np.cos(a * x[0]), 0],\n",
    "                       [0, -b * b * np.sin(b * x[1])]])\n",
    "\n",
    "Hp_analytic = np.dot(H_analytic, p)\n",
    "\n",
    "hess_prod_err = np.linalg.norm(Hp_analytic - Hp_autodiff) / np.linalg.norm(Hp_analytic)\n",
    "print('example hessian vector product error=', hess_prod_err)"
   ]
  },
  {
   "cell_type": "markdown",
   "id": "42215352",
   "metadata": {},
   "source": [
    "### Your task:\n",
    "Use autodiff's grad function to create a function named \"compute\\_hessian\\_vector\\_product\" that computes the Hessian-vector product $H(u)p$."
   ]
  },
  {
   "cell_type": "code",
   "execution_count": 17,
   "id": "908ad955",
   "metadata": {},
   "outputs": [],
   "source": [
    "# Construct the function compute_hessian_vector_product(u_at_interior_nodes, p_at_interior_nodes, alpha, L0)\n",
    "def q(u_at_interior_nodes, p_at_interior_nodes, alpha, L0):\n",
    "    return np.dot(compute_gradient(u_at_interior_nodes, alpha, L0), p_at_interior_nodes)\n",
    "\n",
    "\n",
    "def compute_hessian_vector_product(u_at_interior_nodes, p_at_interior_nodes, alpha, L0):\n",
    "    return grad(q, 0)(u_at_interior_nodes, p_at_interior_nodes, alpha, L0)"
   ]
  },
  {
   "cell_type": "markdown",
   "id": "3ac7834a",
   "metadata": {},
   "source": [
    "### Finite difference check\n",
    "The error should be roughly the same order of magnitude as the step size."
   ]
  },
  {
   "cell_type": "code",
   "execution_count": 18,
   "id": "16774e36",
   "metadata": {},
   "outputs": [
    {
     "name": "stdout",
     "output_type": "stream",
     "text": [
      "s= 1e-07 , hessian vector product finite difference error= 2.5322977683122755e-06\n"
     ]
    }
   ],
   "source": [
    "N = 53\n",
    "alpha = 8.95\n",
    "L0 = 2.13\n",
    "u1 = np.random.randn(N)\n",
    "G1 = compute_gradient(u1, alpha, L0)\n",
    "\n",
    "p = np.random.randn(N)\n",
    "s = 1e-7\n",
    "u2 = u1 + s * p\n",
    "G2 = compute_gradient(u2, alpha, L0)\n",
    "\n",
    "Hp_diff = (G2 - G1) / s\n",
    "\n",
    "Hp = compute_hessian_vector_product(u1, p, alpha, L0)\n",
    "\n",
    "hessian_vector_product_error = np.linalg.norm(Hp - Hp_diff) / np.linalg.norm(Hp_diff)\n",
    "\n",
    "print('s=', s, ', hessian vector product finite difference error=', hessian_vector_product_error)"
   ]
  },
  {
   "cell_type": "markdown",
   "id": "5f2e76a9",
   "metadata": {},
   "source": [
    "## 3d) Hessian-vector product finite difference check plot\n",
    "\n",
    "### Your task:\n",
    "Construct a log-log plot of the Hessian finite difference error for a wide range of step sizes."
   ]
  },
  {
   "cell_type": "code",
   "execution_count": 19,
   "id": "5ce1bf1b",
   "metadata": {},
   "outputs": [
    {
     "name": "stdout",
     "output_type": "stream",
     "text": [
      "step size= 1.0 , example gradient finite difference error= 1.360461458225647\n",
      "step size= 0.1 , example gradient finite difference error= 0.5589131109372201\n",
      "step size= 0.01 , example gradient finite difference error= 0.004778975677738115\n",
      "step size= 0.001 , example gradient finite difference error= 0.01030827315627457\n",
      "step size= 0.0001 , example gradient finite difference error= 0.0011947002153393025\n",
      "step size= 1e-05 , example gradient finite difference error= 0.00012107855352274788\n",
      "step size= 1e-06 , example gradient finite difference error= 1.2123885590282163e-05\n",
      "step size= 1e-07 , example gradient finite difference error= 1.2124253919879889e-06\n",
      "step size= 1e-08 , example gradient finite difference error= 1.2330412539529774e-07\n",
      "step size= 1e-09 , example gradient finite difference error= 1.951235130464611e-09\n",
      "step size= 1e-10 , example gradient finite difference error= 1.82888931645145e-08\n",
      "step size= 1e-11 , example gradient finite difference error= 1.3431807783140759e-06\n",
      "step size= 1e-12 , example gradient finite difference error= 1.5539305177288125e-05\n",
      "step size= 1e-13 , example gradient finite difference error= 2.802723794987747e-05\n"
     ]
    },
    {
     "data": {
      "text/plain": "<Figure size 432x288 with 1 Axes>",
      "image/png": "[encoded data removed]"
     },
     "metadata": {
      "needs_background": "light"
     },
     "output_type": "display_data"
    }
   ],
   "source": [
    "N = 53\n",
    "alpha = 8.95\n",
    "L0 = 2.13\n",
    "u1 = np.random.randn(N)\n",
    "p = np.random.randn(N)\n",
    "step_sizes = [1e0, 1e-1, 1e-2, 1e-3, 1e-4, 1e-5, 1e-6, 1e-7, 1e-8, 1e-9, 1e-10, 1e-11, 1e-12, 1e-13]\n",
    "\n",
    "# Make log-log plot of gradient finite difference error vs. step size\n",
    "\n",
    "q1 = q(u1, p, alpha, L0)\n",
    "dq1 = compute_hessian_vector_product(u1, p, alpha, L0)\n",
    "dq_dx_p = np.dot(dq1, p)\n",
    "\n",
    "grad_errs = list()\n",
    "for s in step_sizes:\n",
    "    u2 = u1 + s * p\n",
    "\n",
    "    q2 = q(u2, p, alpha, L0)\n",
    "    dq_dx_p_diff = (q2 - q1) / s\n",
    "\n",
    "    grad_err = np.abs((dq_dx_p - dq_dx_p_diff) / dq_dx_p_diff)\n",
    "    print('step size=', s, ', example gradient finite difference error=', grad_err)\n",
    "\n",
    "    grad_errs.append(grad_err)\n",
    "\n",
    "plt.loglog(step_sizes, grad_errs)\n",
    "plt.title('Example finite difference gradient check')\n",
    "plt.xlabel('step size')\n",
    "plt.ylabel('error')\n",
    "\n",
    "plt.savefig('3d.eps')"
   ]
  },
  {
   "cell_type": "markdown",
   "id": "53b3168a",
   "metadata": {},
   "source": [
    "### Comparison with dense Hessian\n",
    "\n",
    "The  $N \\times N$ Hessian matrix is the Jacobian of the gradient, which can also be computed via automatic differentiation. This is not recommended for large problems.\n",
    "\n",
    "Here we show how to compute the  Hessian using the Jacobian function in autograd."
   ]
  },
  {
   "cell_type": "code",
   "execution_count": 20,
   "id": "0a0422ab",
   "metadata": {},
   "outputs": [],
   "source": [
    "compute_hessian = jacobian(compute_gradient, 0)"
   ]
  },
  {
   "cell_type": "markdown",
   "id": "c049a2cb",
   "metadata": {},
   "source": [
    "### Test dense Hessian\n",
    "Error should be of the order machine epsilon (less than $10^{-14}$)"
   ]
  },
  {
   "cell_type": "code",
   "execution_count": 21,
   "id": "13fd2b71",
   "metadata": {},
   "outputs": [
    {
     "name": "stdout",
     "output_type": "stream",
     "text": [
      "dense_hessian_error= 1.6657663271983265e-15\n"
     ]
    }
   ],
   "source": [
    "N = 15\n",
    "alpha = 8.95\n",
    "L0 = 2.13\n",
    "u1 = np.random.randn(N)\n",
    "\n",
    "H = compute_hessian(u1, alpha, L0)\n",
    "\n",
    "p = np.random.randn(N)\n",
    "Hp_dense = np.dot(H, p)\n",
    "Hp = compute_hessian_vector_product(u1, p, alpha, L0)\n",
    "\n",
    "dense_hessian_error = np.linalg.norm(Hp_dense - Hp) / np.linalg.norm(Hp)\n",
    "print('dense_hessian_error=', dense_hessian_error)"
   ]
  },
  {
   "cell_type": "markdown",
   "id": "b6550eb9",
   "metadata": {},
   "source": [
    "# 4) Comparison of optimization methods\n",
    "\n",
    "In this problem, we will minimize $J$ using the method of steepest descent, BFGS, and the Newton-Conjugate-Gradient method. We will also plot convergence curves, and estimate the rate of convergence for these methods.\n",
    "\n",
    "We will show you how to do this using BFGS as an example, and you will do this for steepest descent and Newton-CG.\n",
    "\n",
    "### Problem parameters\n",
    "\n",
    "For this problem, please use $N=32$, $L_0 = 3.0$, and $\\alpha=1e2$."
   ]
  },
  {
   "cell_type": "code",
   "execution_count": 22,
   "id": "22adaf76",
   "metadata": {},
   "outputs": [],
   "source": [
    "N = 32\n",
    "L0 = 3.0\n",
    "alpha = 1e2\n",
    "\n",
    "# Useful versions of the objective, gradient, \n",
    "# and hessian-vector product functions\n",
    "J_func = lambda u: objective_function(u, alpha, L0)\n",
    "g_func = lambda u: compute_gradient(u, alpha, L0)\n",
    "Hp_func = lambda u, p: compute_hessian_vector_product(u, p, alpha, L0)"
   ]
  },
  {
   "cell_type": "markdown",
   "id": "247017e8",
   "metadata": {},
   "source": [
    "### Initial guess\n",
    "\n",
    "A reasonable initial guess is the parabola\n",
    "$$u_0(x) = -C x(1-x)$$\n",
    "with constant \n",
    "$$C = 2 \\left(L_0 - 1\\right).$$\n",
    "The constant $C$ is chosen to make the arc length of $u$ close to $L_0$. The formula for $C$ can be derived by the sum of the lengths of the left, right, and bottom edges of the box that bounds the parabola."
   ]
  },
  {
   "cell_type": "code",
   "execution_count": 23,
   "id": "3958fdb0",
   "metadata": {},
   "outputs": [],
   "source": [
    "xx_including_endpoints = np.linspace(0.0, 1.0, N + 2)\n",
    "\n",
    "C = -2.0 * (L0 - 1.0)\n",
    "u0_including_endpoints = C * xx_including_endpoints * (1.0 - xx_including_endpoints)\n",
    "u0 = u0_including_endpoints[1:-1]"
   ]
  },
  {
   "cell_type": "markdown",
   "id": "c1d87257",
   "metadata": {},
   "source": [
    "### Example: BFGS"
   ]
  },
  {
   "cell_type": "code",
   "execution_count": 24,
   "id": "43715d85",
   "metadata": {},
   "outputs": [
    {
     "name": "stdout",
     "output_type": "stream",
     "text": [
      "      fun: -2.1828846090865994\n",
      " hess_inv: array([[ 6.57492324,  5.84133882,  4.90921983, ..., -0.88158642,\n",
      "        -0.09717394,  0.1817861 ],\n",
      "       [ 5.84133882,  8.82914747,  7.50242151, ..., -1.48517034,\n",
      "        -0.77003233, -0.46416864],\n",
      "       [ 4.90921983,  7.50242151,  8.78826227, ..., -1.71815453,\n",
      "        -1.08054079, -1.09690032],\n",
      "       ...,\n",
      "       [-0.88158642, -1.48517034, -1.71815453, ...,  8.99515429,\n",
      "         7.55303007,  4.42218174],\n",
      "       [-0.09717394, -0.77003233, -1.08054079, ...,  7.55303007,\n",
      "         9.01402474,  5.6927937 ],\n",
      "       [ 0.1817861 , -0.46416864, -1.09690032, ...,  4.42218174,\n",
      "         5.6927937 ,  6.01818753]])\n",
      "      jac: array([ 5.27448952e-08, -8.63670838e-08,  7.38221981e-09, -7.08360714e-08,\n",
      "        4.05469949e-08,  1.87908797e-08,  5.02561790e-08,  6.30910647e-08,\n",
      "       -3.66293389e-07,  1.42442041e-07,  9.44833630e-07, -7.74426742e-07,\n",
      "       -7.61117371e-07,  7.10293948e-07, -7.73070396e-07,  6.96737724e-08,\n",
      "        4.12449865e-08,  2.12686589e-07,  2.66157162e-07, -8.41608082e-07,\n",
      "       -6.38748072e-07,  9.35126869e-07, -5.38717608e-08, -2.00639947e-07,\n",
      "       -7.07369300e-08,  4.78582925e-08,  6.06676380e-08, -1.32984996e-07,\n",
      "       -7.24768546e-08,  9.38344678e-08,  3.24422762e-08,  2.07582550e-08])\n",
      "  message: 'Optimization terminated successfully.'\n",
      "     nfev: 107\n",
      "      nit: 94\n",
      "     njev: 107\n",
      "   status: 0\n",
      "  success: True\n",
      "        x: array([-0.23795161, -0.43789435, -0.60578284, -0.74661859, -0.86459641,\n",
      "       -0.96323078, -1.04545962, -1.11373225, -1.17008226, -1.21618786,\n",
      "       -1.25342271, -1.28289615, -1.30548548, -1.32186366, -1.33251887,\n",
      "       -1.3377682 , -1.33776817, -1.33251878, -1.3218637 , -1.30548557,\n",
      "       -1.28289628, -1.25342292, -1.21618817, -1.17008257, -1.11373268,\n",
      "       -1.04546007, -0.96323123, -0.86459691, -0.74661869, -0.60578235,\n",
      "       -0.43789353, -0.23795127])\n"
     ]
    }
   ],
   "source": [
    "u = u0.copy()\n",
    "JJ_bfgs = list()\n",
    "\n",
    "\n",
    "def callback(uk):\n",
    "    JJ_bfgs.append(J_func(uk))\n",
    "\n",
    "\n",
    "sol = optimize.minimize(J_func, u0, method='BFGS', jac=g_func, callback=callback, tol=1e-6)\n",
    "print(sol)\n",
    "\n",
    "u = sol.x"
   ]
  },
  {
   "cell_type": "markdown",
   "id": "660cc8fe",
   "metadata": {},
   "source": [
    "### BFGS: check that solution gradient is small and plot the solution"
   ]
  },
  {
   "cell_type": "code",
   "execution_count": 25,
   "id": "b34e3b08",
   "metadata": {},
   "outputs": [
    {
     "name": "stdout",
     "output_type": "stream",
     "text": [
      "||g(u)|| / ||g(u_0)||= 3.2362484898429905e-08\n"
     ]
    },
    {
     "data": {
      "text/plain": "Text(0, 0.5, 'u(x)')"
     },
     "execution_count": 25,
     "metadata": {},
     "output_type": "execute_result"
    },
    {
     "data": {
      "text/plain": "<Figure size 432x288 with 1 Axes>",
      "image/png": "[encoded data removed]"
     },
     "metadata": {
      "needs_background": "light"
     },
     "output_type": "display_data"
    }
   ],
   "source": [
    "norm_g0 = np.linalg.norm(g_func(u0))\n",
    "norm_g = np.linalg.norm(g_func(u))\n",
    "print('||g(u)|| / ||g(u_0)||=', norm_g / norm_g0)  # should be less than 1e-6\n",
    "\n",
    "u_including_endpoints = np.concatenate([[0], u, [0]])\n",
    "\n",
    "plt.figure()\n",
    "plt.plot(u_including_endpoints)\n",
    "plt.title('u (BFGS)')\n",
    "plt.xlabel('x')\n",
    "plt.ylabel('u(x)')"
   ]
  },
  {
   "cell_type": "markdown",
   "id": "0f62505f",
   "metadata": {},
   "source": [
    "### BFGS: Make a convergence plot and estimate convergence rate\n",
    "\n",
    "Asymptotically, the error should decrease as\n",
    "$$J(u_{k+1}) - J(u_*) \\le c \\left(J(u_k) - J(u_*)\\right)^q$$\n",
    "for some constant $c$ and convergence rate $q$, where $u_*$ is the solution to the optimization problem. \n",
    "\n",
    "We can estimate the convergence rate, $q$, by plotting $J(u_{k+1}) - J(u_*)$ vs. $J(u_k) - J(u_*)$ on a log-log plot and finding the slope. We use the final value of $J$ as the solution $J(u_*)$. "
   ]
  },
  {
   "cell_type": "code",
   "execution_count": 26,
   "id": "218e63c5",
   "metadata": {},
   "outputs": [
    {
     "name": "stderr",
     "output_type": "stream",
     "text": [
      "The PostScript backend does not support transparency; partially transparent artists will be rendered opaque.\n",
      "The PostScript backend does not support transparency; partially transparent artists will be rendered opaque.\n"
     ]
    },
    {
     "name": "stdout",
     "output_type": "stream",
     "text": [
      "The convergence order is estimated to be 1.03\n"
     ]
    },
    {
     "data": {
      "text/plain": "<Figure size 432x288 with 1 Axes>",
      "image/png": "[encoded data removed]"
     },
     "metadata": {
      "needs_background": "light"
     },
     "output_type": "display_data"
    }
   ],
   "source": [
    "def loglog_convergence_order(JJ, method):\n",
    "    log_lower_limit = int(np.log10(np.min(JJ[:-1] - JJ[-1])))\n",
    "    log_upper_limit = min(0, int(np.log10(np.max(JJ[:-1] - JJ[-1]))))\n",
    "    kk = np.logspace(log_lower_limit, log_upper_limit, log_upper_limit - log_lower_limit + 1)\n",
    "    yy10 = np.power(kk, 1.0)\n",
    "    yy15 = np.power(kk, 1.5)\n",
    "    yy20 = np.power(kk, 2.0)\n",
    "    plt.loglog(kk, yy10, 'r')\n",
    "    plt.loglog(kk, yy15, 'g')\n",
    "    plt.loglog(kk, yy20, 'b')\n",
    "\n",
    "    plt.loglog(JJ[:-2] - JJ[-1], JJ[1:-1] - JJ[-1], 'k')\n",
    "    plt.title(f'Convergence plot {method}')\n",
    "    plt.ylabel('J(u_{k+1}) - J(u_*)')\n",
    "    plt.xlabel('J(u_{k}) - J(u_*)')\n",
    "    plt.legend(['q=1.0', 'q=1.5', 'q=2.0', f'{method} convergence'])\n",
    "\n",
    "    # Perform a linear regression on the log difference log(J-J*)\n",
    "    x = JJ[:-2] - JJ[-1]\n",
    "    aug_x = np.vstack([x, np.ones(len(x))]).T\n",
    "    y = JJ[1:-1] - JJ[-1]\n",
    "    q, c = np.linalg.lstsq(np.log(aug_x), np.log(y), rcond=None)[0]\n",
    "    print(f'The convergence order is estimated to be {q:.2f}')\n",
    "    plt.savefig(f'4{method}.eps')\n",
    "\n",
    "\n",
    "loglog_convergence_order(JJ_bfgs, 'BFGS')"
   ]
  },
  {
   "cell_type": "markdown",
   "id": "b2ec8793",
   "metadata": {},
   "source": [
    "## 4a) Steepest descent\n",
    "\n",
    "The method of steepest descent minimizes the function $J(u)$ via the iteration\n",
    "$$u_{k+1} = u_k - \\beta\n",
    "_kg(u_k)$$\n",
    "where $u_k$ is the $k\\text{th}$ iterate, $g(u_k)$ is the gradient at the $k\\text{th}$ iterate, and $\\beta_k$ is a step size parameter.\n",
    "\n",
    "### Your task:\n",
    "\n",
    "Minimize $J$ using the method of steepest descent. You should write your own steepest descent code for this (do not use existing steepest descent libraries).\n",
    "\n",
    "Continue iterating until $||g_k|| < 10^{-6} ||g_0||$ or smaller. This should require several thousand iterations.\n",
    "\n",
    "Save the function values $J(u_k)$ for all iterations so we can plot the convergence.\n",
    "\n",
    "\n",
    "#### Hint: step size\n",
    "\n",
    "The trick here is choosing $\\beta_k$. If $\\beta_k$ is too large, the method may become unstable and diverge. If $\\beta_k$ is too small, the method will converge slowly. \n",
    "\n",
    "A popular option is to choose a step length satisfying the Wolfe conditions:\n",
    "\n",
    "https://en.wikipedia.org/wiki/Wolfe_conditions\n",
    "\n",
    "You may use the function scipy.optimize.line_search to find a step length satisfying these conditions:\n",
    "\n",
    "https://docs.scipy.org/doc/scipy/reference/generated/scipy.optimize.line_search.html#scipy.optimize.line_search"
   ]
  },
  {
   "cell_type": "code",
   "execution_count": 27,
   "id": "187b7c31",
   "metadata": {},
   "outputs": [],
   "source": [
    "u = u0.copy()  # update u each iteration\n",
    "\n",
    "J0 = J_func(u)\n",
    "g0 = g_func(u)\n",
    "norm_g0 = np.linalg.norm(g0)\n",
    "\n",
    "JJ_sd = list()\n",
    "JJ_sd.append(J0)  # Keep appending the value of J to this list each iteration\n",
    "\n",
    "# Solve optimization problem using method of steepest descent.\n",
    "g = g0\n",
    "while True:\n",
    "    g = g_func(u)\n",
    "    if np.linalg.norm(g) < 10 ** (-6) * norm_g0:\n",
    "        break\n",
    "    step_size, _, _, J_new, _, _ = optimize.line_search(J_func, g_func, u, -g)\n",
    "    u -= step_size * g\n",
    "    JJ_sd.append(J_new)\n",
    "\n",
    "# Now the solution should be in the variable u\n",
    "# and JJ_sd should be a list, with JJ[k] = J(u_k)\n",
    "\n",
    "JJ_sd = np.array(JJ_sd)  # Make JJ_sd into array instead of list"
   ]
  },
  {
   "cell_type": "markdown",
   "id": "40a1f87b",
   "metadata": {},
   "source": [
    "### Test:"
   ]
  },
  {
   "cell_type": "code",
   "execution_count": 28,
   "id": "f649ac1c",
   "metadata": {},
   "outputs": [
    {
     "name": "stdout",
     "output_type": "stream",
     "text": [
      "||g(u)|| / ||g(u_0)||= 9.947168732070596e-07\n"
     ]
    },
    {
     "data": {
      "text/plain": "Text(0, 0.5, 'u(x)')"
     },
     "execution_count": 28,
     "metadata": {},
     "output_type": "execute_result"
    },
    {
     "data": {
      "text/plain": "<Figure size 432x288 with 1 Axes>",
      "image/png": "[encoded data removed]"
     },
     "metadata": {
      "needs_background": "light"
     },
     "output_type": "display_data"
    }
   ],
   "source": [
    "norm_g = np.linalg.norm(g_func(u))\n",
    "print('||g(u)|| / ||g(u_0)||=', norm_g / norm_g0)  # should be less than 1e-6\n",
    "\n",
    "u_including_endpoints = np.concatenate([[0], u, [0]])\n",
    "\n",
    "plt.figure()\n",
    "plt.plot(u_including_endpoints)\n",
    "plt.title('u (steepest descent)')\n",
    "plt.xlabel('x')\n",
    "plt.ylabel('u(x)')"
   ]
  },
  {
   "cell_type": "markdown",
   "id": "004fdd7c",
   "metadata": {},
   "source": [
    "## 4b) Steepest descent convergence\n",
    "\n",
    "Asymptotically, the error should decrease as\n",
    "$$J(u_{k+1}) - J(u_*) \\le c \\left(J(u_k) - J(u_*)\\right)^q$$\n",
    "for some constant $c$ and convergence rate $q$, where $u_*$ is the solution to the optimization problem. \n",
    "\n",
    "### Your task:\n",
    "\n",
    "Estimate the convergence rate, $q$, by plotting $J(u_{k+1}) - J(u_*)$ vs. $J(u_k) - J(u_*)$ on a log-log plot and finding the slope. You may use the final value of $J$ as the solution $J(u_*)$. "
   ]
  },
  {
   "cell_type": "code",
   "execution_count": 29,
   "id": "350f80a9",
   "metadata": {},
   "outputs": [
    {
     "name": "stdout",
     "output_type": "stream",
     "text": [
      "The convergence order is estimated to be 1.00\n"
     ]
    },
    {
     "name": "stderr",
     "output_type": "stream",
     "text": [
      "The PostScript backend does not support transparency; partially transparent artists will be rendered opaque.\n",
      "The PostScript backend does not support transparency; partially transparent artists will be rendered opaque.\n"
     ]
    },
    {
     "data": {
      "text/plain": "<Figure size 432x288 with 1 Axes>",
      "image/png": "[encoded data removed]"
     },
     "metadata": {
      "needs_background": "light"
     },
     "output_type": "display_data"
    }
   ],
   "source": [
    "# Make a log-log convergence plot for steepest descent and estimate the convergence rate\n",
    "\n",
    "loglog_convergence_order(JJ_sd, 'steepest descent')"
   ]
  },
  {
   "cell_type": "markdown",
   "id": "a3499e5e",
   "metadata": {},
   "source": [
    "## 4c) Newton-CG\n",
    "\n",
    "### Your task:\n",
    "\n",
    "Minimize $J$ using the Newton-CG method implemented in scipy.optimize.minimize:\n",
    "https://docs.scipy.org/doc/scipy/reference/generated/scipy.optimize.minimize.html#scipy.optimize.minimize\n",
    "\n",
    "https://docs.scipy.org/doc/scipy/reference/optimize.minimize-newtoncg.html\n",
    "\n",
    " - Use a tolerance of $10^{-6}$\n",
    "\n",
    " - Save the intermediate values of $J(u_k)$ so that we can study convergence.\n",
    "\n",
    "\n",
    "### Hint:\n",
    "To save intermediate values of $J(u_k)$, use a \"callback\" function."
   ]
  },
  {
   "cell_type": "code",
   "execution_count": 30,
   "id": "87e1a3ca",
   "metadata": {},
   "outputs": [
    {
     "name": "stdout",
     "output_type": "stream",
     "text": [
      "     fun: -2.182884609087087\n",
      "     jac: array([-5.40412008e-09, -3.78689014e-08,  1.49981752e-08, -3.85935663e-08,\n",
      "       -4.11020109e-08, -8.76084377e-08, -8.94155245e-08, -1.22422987e-07,\n",
      "       -1.79908486e-07, -2.46142319e-07, -3.20290507e-07, -4.16410985e-07,\n",
      "       -4.78102499e-07, -6.12885056e-07, -6.38369353e-07, -6.97930519e-07,\n",
      "       -7.17164686e-07, -6.50375249e-07, -5.89092698e-07, -5.07022375e-07,\n",
      "       -4.02267994e-07, -3.18186320e-07, -2.39660794e-07, -1.77900922e-07,\n",
      "       -1.35334266e-07, -9.88515605e-08, -7.57521455e-08, -7.20995581e-08,\n",
      "       -3.93216695e-08, -9.88454468e-09, -5.34302160e-08, -1.85196441e-08])\n",
      " message: 'Optimization terminated successfully.'\n",
      "    nfev: 37\n",
      "    nhev: 259\n",
      "     nit: 27\n",
      "    njev: 37\n",
      "  status: 0\n",
      " success: True\n",
      "       x: array([-0.23795173, -0.4378941 , -0.60578279, -0.74661865, -0.86459672,\n",
      "       -0.96323118, -1.04546002, -1.11373258, -1.17008248, -1.21618818,\n",
      "       -1.25342302, -1.28289612, -1.30548537, -1.32186363, -1.33251877,\n",
      "       -1.33776815, -1.33776816, -1.33251877, -1.32186364, -1.30548538,\n",
      "       -1.28289613, -1.25342304, -1.2161882 , -1.17008251, -1.11373262,\n",
      "       -1.04546005, -0.96323121, -0.86459675, -0.74661867, -0.60578279,\n",
      "       -0.43789408, -0.23795171])\n"
     ]
    }
   ],
   "source": [
    "u = u0.copy()\n",
    "JJ_ncg = list()\n",
    "\n",
    "\n",
    "def callback(uk):\n",
    "    JJ_ncg.append(J_func(uk))\n",
    "\n",
    "\n",
    "sol = optimize.minimize(J_func, u, jac=g_func, method='Newton-CG',\n",
    "                        hessp=Hp_func, callback=callback, tol=1e-6)\n",
    "print(sol)\n",
    "\n",
    "u = sol.x"
   ]
  },
  {
   "cell_type": "markdown",
   "id": "2cbd1cee",
   "metadata": {},
   "source": [
    "### Test"
   ]
  },
  {
   "cell_type": "code",
   "execution_count": 31,
   "id": "6296fa5f",
   "metadata": {
    "scrolled": true
   },
   "outputs": [
    {
     "name": "stdout",
     "output_type": "stream",
     "text": [
      "||g(u)|| / ||g(u_0)||= 2.1850970015394895e-10\n"
     ]
    },
    {
     "data": {
      "text/plain": "Text(0, 0.5, 'u(x)')"
     },
     "execution_count": 31,
     "metadata": {},
     "output_type": "execute_result"
    },
    {
     "data": {
      "text/plain": "<Figure size 432x288 with 1 Axes>",
      "image/png": "[encoded data removed]"
     },
     "metadata": {
      "needs_background": "light"
     },
     "output_type": "display_data"
    }
   ],
   "source": [
    "norm_g = np.linalg.norm(g_func(u))\n",
    "print('||g(u)|| / ||g(u_0)||=', norm_g / norm_g0)  # should be less than 1e-6\n",
    "\n",
    "u_including_endpoints = np.concatenate([[0], u, [0]])\n",
    "\n",
    "plt.figure()\n",
    "plt.plot(u_including_endpoints)\n",
    "plt.title('u (Newton-CG)')\n",
    "plt.xlabel('x')\n",
    "plt.ylabel('u(x)')"
   ]
  },
  {
   "cell_type": "markdown",
   "id": "b4752bb3",
   "metadata": {},
   "source": [
    "## 4d) Newton-CG convergence\n",
    "\n",
    "Asymptotically, the error should decrease as\n",
    "$$J(u_{k+1}) - J(u_*) \\le c \\left(J(u_k) - J(u_*)\\right)^q$$\n",
    "for some constant $c$ and convergence rate $q$, where $u_*$ is the solution to the optimization problem. \n",
    "\n",
    "### Your task:\n",
    "\n",
    "Estimate the convergence rate, $q$, for Newton-CG by plotting $J(u_{k+1}) - J(u_*)$ vs. $J(u_k) - J(u_*)$ on a log-log plot and estimating the slope. You may use the final value of $J$ as the solution $J(u_*)$. "
   ]
  },
  {
   "cell_type": "code",
   "execution_count": 32,
   "id": "69e1a170",
   "metadata": {},
   "outputs": [
    {
     "name": "stderr",
     "output_type": "stream",
     "text": [
      "The PostScript backend does not support transparency; partially transparent artists will be rendered opaque.\n",
      "The PostScript backend does not support transparency; partially transparent artists will be rendered opaque.\n"
     ]
    },
    {
     "name": "stdout",
     "output_type": "stream",
     "text": [
      "The convergence order is estimated to be 1.24\n"
     ]
    },
    {
     "data": {
      "text/plain": "<Figure size 432x288 with 1 Axes>",
      "image/png": "[encoded data removed]"
     },
     "metadata": {
      "needs_background": "light"
     },
     "output_type": "display_data"
    }
   ],
   "source": [
    "# Make a log-log convergence plot for Newton-CG and estimate the convergence rate\n",
    "# For the estimation, see the definition of the `loglog_convergence_order` function.\n",
    "loglog_convergence_order(JJ_ncg, 'Newton-CG')"
   ]
  },
  {
   "cell_type": "markdown",
   "source": [
    "## 5a) SD does not exhibit mesh independence"
   ],
   "metadata": {
    "collapsed": false,
    "pycharm": {
     "name": "#%% md\n"
    }
   }
  },
  {
   "cell_type": "code",
   "execution_count": 119,
   "outputs": [
    {
     "name": "stdout",
     "output_type": "stream",
     "text": [
      "     fun: -2.1830984599717502\n",
      "     jac: array([ 2.96229534e-11,  9.57051569e-09,  5.22357786e-09, -3.38358047e-09,\n",
      "        1.44657594e-09, -2.17081344e-09,  2.73486597e-09, -7.52582463e-10,\n",
      "       -3.31370068e-09, -6.68521436e-09, -3.62947032e-09,  1.68534492e-10,\n",
      "        1.01982184e-08, -3.41529812e-09,  2.40790886e-09,  5.90057978e-09,\n",
      "        2.13524888e-09, -1.92762950e-09,  7.00626987e-10, -1.92681662e-09,\n",
      "        1.41880032e-09, -6.38024693e-09, -1.22871976e-10, -6.51762592e-09,\n",
      "        6.82493468e-09, -7.07982777e-09,  2.99248358e-09, -2.65439407e-09,\n",
      "       -2.32953118e-09,  4.85028863e-09,  2.29355712e-09,  9.18797295e-11,\n",
      "        1.25551860e-08, -9.98587624e-10,  3.26909862e-09, -2.30575645e-09,\n",
      "        3.54403006e-09,  8.51148570e-10, -6.77184604e-09, -5.18769403e-09,\n",
      "       -1.86264926e-09, -3.91031939e-10, -1.67903516e-09,  4.78152017e-09,\n",
      "       -4.44552251e-09, -5.63253666e-09,  6.85449797e-09,  4.57540653e-10,\n",
      "       -2.58785849e-09,  5.94324583e-10, -2.74329350e-09, -6.27570614e-09,\n",
      "       -3.92992105e-09,  2.30732977e-09,  3.01192205e-09, -3.06750444e-09,\n",
      "       -2.85593004e-09,  4.91277170e-09,  5.94373959e-09, -1.08965474e-09,\n",
      "       -3.53861521e-09,  1.40965621e-09,  4.56011595e-09,  1.84132748e-09,\n",
      "       -1.07421483e-09, -2.07473679e-10,  2.68419726e-09,  3.79385021e-09,\n",
      "        3.98191661e-09,  3.01856417e-09,  1.45574992e-09, -7.33984864e-10,\n",
      "       -3.01653765e-09, -2.70041587e-09,  1.04379193e-09, -1.23425173e-09,\n",
      "        2.93388318e-09, -4.05407896e-09, -4.72123297e-09, -3.18666705e-09,\n",
      "       -2.00782218e-09, -3.03831525e-09,  2.14630282e-09, -5.40939528e-10,\n",
      "       -5.24424011e-09, -9.11896011e-10,  5.28755624e-10, -2.61814042e-09,\n",
      "       -1.07347099e-09, -9.20264949e-10, -3.08452019e-09, -6.22448520e-09,\n",
      "       -6.35859572e-09, -1.37073422e-09, -2.82834076e-09,  5.07253739e-09,\n",
      "       -3.29118575e-09,  2.42526749e-09,  2.94624910e-09, -4.81972679e-09,\n",
      "        2.51776551e-10, -6.64541211e-09, -2.61067144e-09,  5.93235814e-09,\n",
      "       -3.96947425e-09,  3.98107396e-09, -1.54865321e-09,  1.03515883e-08,\n",
      "       -1.74516699e-09,  4.52926235e-09,  4.57093133e-09, -3.88295656e-09,\n",
      "        2.71154828e-09,  7.97444967e-09, -1.15363400e-08,  1.59140934e-09,\n",
      "        1.36403566e-09, -8.40387505e-09, -6.49547258e-10,  1.53774508e-09,\n",
      "       -6.17420843e-09,  4.32234247e-09, -1.12539627e-09, -1.44521307e-09,\n",
      "        8.66804646e-09, -5.17579426e-09, -1.72096378e-10,  6.12431129e-09,\n",
      "       -4.73547685e-09, -2.60860409e-09,  2.62760224e-09,  1.30859881e-09,\n",
      "       -7.77487501e-09, -1.96777680e-09,  4.21642806e-09, -4.53210224e-09,\n",
      "       -1.03943052e-09, -1.88979090e-09,  3.60126092e-10,  9.23159005e-10,\n",
      "        1.23005328e-09,  2.70961330e-09,  2.49932016e-09, -7.87106308e-09,\n",
      "        9.85133370e-09,  8.90335239e-10, -1.40860404e-10, -1.02938981e-09,\n",
      "        1.01799756e-09,  7.14642513e-09, -2.94139372e-09,  6.67121959e-09,\n",
      "       -9.81690832e-09,  3.75332596e-09,  1.14117250e-09, -1.32419721e-09,\n",
      "       -3.45652031e-09,  1.77721999e-09,  3.10451374e-09,  4.31699237e-09,\n",
      "       -5.29955170e-09, -2.96229135e-09, -3.63110132e-09, -2.37268073e-09,\n",
      "       -1.01613991e-08, -5.94588167e-09,  2.06119045e-09,  2.75448740e-09,\n",
      "       -5.03886237e-09,  1.26110330e-09,  6.46858296e-09, -6.95354788e-09,\n",
      "       -6.73202697e-09,  5.16477340e-09, -6.78271750e-09, -6.38179689e-09,\n",
      "        5.06639269e-09, -5.41193662e-09, -6.78393236e-09,  5.46175268e-09,\n",
      "       -1.06035136e-08,  6.24160334e-09, -3.66485477e-10,  2.57864910e-09,\n",
      "        1.87541569e-09, -1.69677179e-09,  1.14881777e-09,  2.23971381e-09,\n",
      "        4.69160543e-09,  2.98537067e-09,  1.23444482e-09,  1.36719156e-09,\n",
      "        2.76744744e-09,  1.53342777e-09, -1.69397520e-09, -1.57875766e-09,\n",
      "        3.06838528e-09,  5.63918639e-09,  2.32760950e-09, -1.38892367e-09,\n",
      "       -1.64963487e-09, -2.58718663e-11,  1.60542048e-10, -4.45258040e-09,\n",
      "       -7.34382928e-09,  2.00278571e-09,  4.62131522e-09, -5.93925888e-09,\n",
      "       -7.15246070e-10, -5.47673104e-10,  1.16628387e-09, -9.77195412e-10,\n",
      "        8.29485182e-10, -7.10240342e-09,  3.13905138e-09, -9.59295870e-09,\n",
      "        1.99818070e-09, -4.51465648e-09,  1.86468598e-09,  1.54725763e-09,\n",
      "        1.37370075e-09,  4.88841398e-09,  1.85543769e-09,  8.22756633e-09,\n",
      "        2.41143710e-09, -1.24972537e-09,  7.14521501e-10, -5.83971461e-10,\n",
      "       -1.56720406e-09, -3.05598288e-09,  7.19031161e-10, -1.53149150e-09,\n",
      "       -2.11825790e-09, -8.09385731e-09,  2.08453992e-09,  1.52774890e-09,\n",
      "       -3.15347559e-09,  8.13715690e-10,  1.64884314e-09,  6.46686712e-09,\n",
      "       -3.04126170e-10,  7.51196026e-10,  6.68536878e-09,  2.51624176e-09,\n",
      "       -3.59266610e-09, -7.78698971e-09, -2.26764392e-09, -1.81795229e-09,\n",
      "        3.71046700e-09, -2.31894428e-09,  1.73525288e-09, -3.75623710e-09,\n",
      "        5.46001098e-09,  9.80977724e-09,  5.74859924e-10])\n",
      " message: 'Optimization terminated successfully.'\n",
      "    nfev: 42\n",
      "    nhev: 2740\n",
      "     nit: 31\n",
      "    njev: 42\n",
      "  status: 0\n",
      " success: True\n",
      "       x: array([-0.03302202, -0.06531372, -0.09689105, -0.12776956, -0.15796448,\n",
      "       -0.18749071, -0.21636279, -0.24459498, -0.27220119, -0.29919504,\n",
      "       -0.32558983, -0.35139858, -0.37663402, -0.40130859, -0.42543446,\n",
      "       -0.44902353, -0.47208742, -0.49463752, -0.51668494, -0.53824054,\n",
      "       -0.55931498, -0.57991862, -0.60006164, -0.61975396, -0.6390053 ,\n",
      "       -0.65782516, -0.6762228 , -0.6942073 , -0.71178754, -0.72897218,\n",
      "       -0.74576969, -0.76218835, -0.77823627, -0.79392136, -0.80925135,\n",
      "       -0.82423379, -0.83887609, -0.85318546, -0.86716895, -0.88083346,\n",
      "       -0.89418573, -0.90723234, -0.91997973, -0.93243418, -0.94460184,\n",
      "       -0.95648869, -0.96810062, -0.97944333, -0.99052243, -1.00134338,\n",
      "       -1.01191151, -1.02223203, -1.03231004, -1.0421505 , -1.05175827,\n",
      "       -1.06113808, -1.07029456, -1.07923223, -1.08795548, -1.09646863,\n",
      "       -1.10477588, -1.1128813 , -1.12078892, -1.12850261, -1.1360262 ,\n",
      "       -1.14336338, -1.15051777, -1.15749291, -1.16429223, -1.17091909,\n",
      "       -1.17737675, -1.1836684 , -1.18979714, -1.19576599, -1.2015779 ,\n",
      "       -1.20723573, -1.21274227, -1.21810024, -1.22331228, -1.22838095,\n",
      "       -1.23330877, -1.23809815, -1.24275147, -1.247271  , -1.251659  ,\n",
      "       -1.25591761, -1.26004893, -1.26405501, -1.26793782, -1.27169928,\n",
      "       -1.27534123, -1.27886548, -1.28227377, -1.28556776, -1.2887491 ,\n",
      "       -1.29181934, -1.29478   , -1.29763255, -1.30037838, -1.30301885,\n",
      "       -1.30555526, -1.30798887, -1.31032088, -1.31255243, -1.31468462,\n",
      "       -1.31671851, -1.3186551 , -1.32049534, -1.32224014, -1.32389037,\n",
      "       -1.32544683, -1.32691029, -1.32828148, -1.32956107, -1.33074969,\n",
      "       -1.33184793, -1.33285632, -1.33377538, -1.33460554, -1.33534722,\n",
      "       -1.33600079, -1.33656657, -1.33704483, -1.33743582, -1.33773971,\n",
      "       -1.33795668, -1.33808681, -1.33813018, -1.33808681, -1.33795668,\n",
      "       -1.33773971, -1.33743581, -1.33704483, -1.33656657, -1.33600079,\n",
      "       -1.33534722, -1.33460554, -1.33377538, -1.33285632, -1.33184792,\n",
      "       -1.33074969, -1.32956107, -1.32828148, -1.32691029, -1.32544683,\n",
      "       -1.32389037, -1.32224014, -1.32049534, -1.3186551 , -1.31671851,\n",
      "       -1.31468462, -1.31255243, -1.31032088, -1.30798887, -1.30555526,\n",
      "       -1.30301885, -1.30037838, -1.29763254, -1.29478   , -1.29181934,\n",
      "       -1.2887491 , -1.28556776, -1.28227376, -1.27886548, -1.27534123,\n",
      "       -1.27169928, -1.26793782, -1.26405501, -1.26004893, -1.2559176 ,\n",
      "       -1.25165899, -1.247271  , -1.24275146, -1.23809815, -1.23330877,\n",
      "       -1.22838095, -1.22331227, -1.21810024, -1.21274227, -1.20723573,\n",
      "       -1.2015779 , -1.19576599, -1.18979714, -1.1836684 , -1.17737675,\n",
      "       -1.17091909, -1.16429223, -1.15749291, -1.15051777, -1.14336337,\n",
      "       -1.13602619, -1.12850261, -1.12078891, -1.1128813 , -1.10477587,\n",
      "       -1.09646863, -1.08795548, -1.07923222, -1.07029456, -1.06113808,\n",
      "       -1.05175826, -1.0421505 , -1.03231003, -1.02223202, -1.0119115 ,\n",
      "       -1.00134337, -0.99052242, -0.97944332, -0.96810061, -0.95648869,\n",
      "       -0.94460183, -0.93243417, -0.91997972, -0.90723233, -0.89418572,\n",
      "       -0.88083345, -0.86716894, -0.85318545, -0.83887608, -0.82423379,\n",
      "       -0.80925134, -0.79392135, -0.77823626, -0.76218835, -0.74576968,\n",
      "       -0.72897217, -0.71178753, -0.6942073 , -0.67622279, -0.65782515,\n",
      "       -0.6390053 , -0.61975396, -0.60006163, -0.57991861, -0.55931497,\n",
      "       -0.53824054, -0.51668493, -0.49463752, -0.47208742, -0.44902353,\n",
      "       -0.42543446, -0.40130859, -0.37663402, -0.35139858, -0.32558983,\n",
      "       -0.29919504, -0.27220119, -0.24459498, -0.21636279, -0.1874907 ,\n",
      "       -0.15796448, -0.12776955, -0.09689105, -0.06531372, -0.03302202])\n"
     ]
    }
   ],
   "source": [
    "# Restate the problem\n",
    "\n",
    "L0 = 3.0\n",
    "alpha = 1e2\n",
    "\n",
    "J_func = lambda u: objective_function(u, alpha, L0)\n",
    "g_func = lambda u: compute_gradient(u, alpha, L0)\n",
    "Hp_func = lambda u, p: compute_hessian_vector_product(u, p, alpha, L0)\n",
    "\n",
    "\n",
    "def sd_solver(N, tol=1e-6, maxiter=1e4):\n",
    "    xx_including_endpoints = np.linspace(0.0, 1.0, N + 2)\n",
    "\n",
    "    C = -2.0 * (L0 - 1.0)\n",
    "    u0_including_endpoints = C * xx_including_endpoints * (1.0 - xx_including_endpoints)\n",
    "    u0 = u0_including_endpoints[1:-1]\n",
    "\n",
    "    u = u0.copy()  # update u each iteration\n",
    "\n",
    "    J0 = J_func(u)\n",
    "    g0 = g_func(u)\n",
    "    norm_g0 = np.linalg.norm(g0)\n",
    "    JJ_sd = [J0]\n",
    "    uu_sd = [u]\n",
    "\n",
    "    # Solve optimization problem using method of steepest descent.\n",
    "    g = g0\n",
    "    for _ in range(int(maxiter)):\n",
    "        g = g_func(u)\n",
    "        if np.linalg.norm(g) < tol * norm_g0:\n",
    "            break\n",
    "        step_size, _, _, J_new, _, _ = optimize.line_search(J_func, g_func, u, -g)\n",
    "        u -= step_size * g\n",
    "        JJ_sd.append(J_new)\n",
    "        uu_sd.append(u)\n",
    "\n",
    "    JJ_sd = np.array(JJ_sd)  # Make JJ_sd into array instead of list\n",
    "\n",
    "    return JJ_sd, uu_sd\n",
    "\n",
    "\n",
    "def ncg_solver(N, tol=1e-6):\n",
    "    xx_including_endpoints = np.linspace(0.0, 1.0, N + 2)\n",
    "\n",
    "    C = -2.0 * (L0 - 1.0)\n",
    "    u0_including_endpoints = C * xx_including_endpoints * (1.0 - xx_including_endpoints)\n",
    "    u0 = u0_including_endpoints[1:-1]\n",
    "\n",
    "    u = u0.copy()\n",
    "    JJ_ncg = []\n",
    "    uu_ncg = []\n",
    "    LL_ncg = []\n",
    "\n",
    "    def callback(uk):\n",
    "        JJ_ncg.append(J_func(uk))\n",
    "        uu_ncg.append(uk)\n",
    "        LL_ncg.append(length_functional(uk))\n",
    "\n",
    "    sol = optimize.minimize(J_func, u, jac=g_func, method='Newton-CG',\n",
    "                            hessp=Hp_func, callback=callback, tol=tol,\n",
    "                            options={'disp': False})\n",
    "    print(sol)\n",
    "\n",
    "    return JJ_ncg, uu_ncg, LL_ncg\n",
    "\n",
    "\n",
    "JJ_ncg_fine_small_tor, _, _ = ncg_solver(255, tol=1e-8)"
   ],
   "metadata": {
    "collapsed": false,
    "pycharm": {
     "name": "#%%\n"
    }
   }
  },
  {
   "cell_type": "code",
   "execution_count": 90,
   "outputs": [
    {
     "name": "stderr",
     "output_type": "stream",
     "text": [
      "100%|██████████| 4/4 [00:57<00:00, 14.35s/it]\n",
      "The PostScript backend does not support transparency; partially transparent artists will be rendered opaque.\n",
      "The PostScript backend does not support transparency; partially transparent artists will be rendered opaque.\n"
     ]
    },
    {
     "data": {
      "text/plain": "<Figure size 432x288 with 1 Axes>",
      "image/png": "[encoded data removed]"
     },
     "metadata": {
      "needs_background": "light"
     },
     "output_type": "display_data"
    }
   ],
   "source": [
    "plt.figure()\n",
    "plt.grid('on')\n",
    "Ns = 2 ** np.arange(3, 8) - 1\n",
    "\n",
    "for N in tqdm(Ns):\n",
    "    JJ_sd, uu_sd = sd_solver(N)\n",
    "    plt.plot(range(len(JJ_sd)), JJ_sd - JJ_ncg_fine_small_tor[-1], label=f'{N}')\n",
    "plt.gca().set(\n",
    "    xlabel='iteration',\n",
    "    ylabel='$J[u^k]-J^*$',\n",
    "    yscale='log',\n",
    ")\n",
    "plt.title('Convergence plot of the steepest descent method.')\n",
    "plt.legend(title='N')\n",
    "plt.savefig('5a.eps')"
   ],
   "metadata": {
    "collapsed": false,
    "pycharm": {
     "name": "#%%\n"
    }
   }
  },
  {
   "cell_type": "markdown",
   "source": [
    "## 5b) Newton-CG has some mesh independence"
   ],
   "metadata": {
    "collapsed": false
   }
  },
  {
   "cell_type": "code",
   "execution_count": 120,
   "outputs": [
    {
     "name": "stderr",
     "output_type": "stream",
     "text": [
      " 20%|██        | 1/5 [00:00<00:00,  5.58it/s]"
     ]
    },
    {
     "name": "stdout",
     "output_type": "stream",
     "text": [
      "     fun: -2.1794115136702947\n",
      "     jac: array([-4.93882232e-07, -9.44053620e-07, -2.45887905e-06, -3.80854030e-06,\n",
      "       -2.45887934e-06, -9.44053477e-07, -4.93882247e-07])\n",
      " message: 'Optimization terminated successfully.'\n",
      "    nfev: 29\n",
      "    nhev: 53\n",
      "     nit: 22\n",
      "    njev: 29\n",
      "  status: 0\n",
      " success: True\n",
      "       x: array([-0.76829501, -1.1348368 , -1.29726426, -1.34315811, -1.29726426,\n",
      "       -1.1348368 , -0.76829501])\n"
     ]
    },
    {
     "name": "stderr",
     "output_type": "stream",
     "text": [
      " 40%|████      | 2/5 [00:00<00:00,  3.63it/s]"
     ]
    },
    {
     "name": "stdout",
     "output_type": "stream",
     "text": [
      "     fun: -2.1821774891248564\n",
      "     jac: array([-1.24757796e-09,  1.56142538e-09, -4.79281859e-09, -4.25841945e-09,\n",
      "       -5.69190400e-09, -1.01358727e-08, -1.52712322e-08, -1.80174315e-08,\n",
      "       -1.66669678e-08, -1.26186716e-08, -8.08216303e-09, -3.40188004e-09,\n",
      "        7.61287422e-10, -2.51659489e-09,  4.14452916e-11])\n",
      " message: 'Optimization terminated successfully.'\n",
      "    nfev: 41\n",
      "    nhev: 127\n",
      "     nit: 30\n",
      "    njev: 41\n",
      "  status: 0\n",
      " success: True\n",
      "       x: array([-0.45008769, -0.76369744, -0.98106365, -1.13007318, -1.22984314,\n",
      "       -1.29317345, -1.32818905, -1.33938225, -1.32818905, -1.29317345,\n",
      "       -1.22984314, -1.13007318, -0.98106364, -0.76369744, -0.45008768])\n"
     ]
    },
    {
     "name": "stderr",
     "output_type": "stream",
     "text": [
      " 60%|██████    | 3/5 [00:01<00:00,  2.20it/s]"
     ]
    },
    {
     "name": "stdout",
     "output_type": "stream",
     "text": [
      "     fun: -2.1828708075430723\n",
      "     jac: array([-6.16074622e-10, -3.48203522e-10, -2.96590970e-09, -2.15276302e-09,\n",
      "       -5.19141529e-09, -5.93493666e-09, -4.90151781e-09, -4.87700410e-09,\n",
      "       -6.10206132e-09, -8.28177948e-09, -1.10542612e-08, -1.40356958e-08,\n",
      "       -1.69324467e-08, -1.94243365e-08, -2.09085166e-08, -2.15118476e-08,\n",
      "       -2.02378779e-08, -1.83325780e-08, -1.53201748e-08, -1.24353834e-08,\n",
      "       -9.78256992e-09, -7.72905047e-09, -6.10430380e-09, -4.33446935e-09,\n",
      "       -1.67403461e-09,  1.27927952e-09,  2.08645006e-09, -1.88970839e-10,\n",
      "        1.63192550e-09, -1.07891805e-09, -7.31542271e-10])\n",
      " message: 'Optimization terminated successfully.'\n",
      "    nfev: 35\n",
      "    nhev: 250\n",
      "     nit: 28\n",
      "    njev: 35\n",
      "  status: 0\n",
      " success: True\n",
      "       x: array([-0.24475108, -0.44928587, -0.62008508, -0.76256051, -0.88122652,\n",
      "       -0.97984306, -1.06153481, -1.1288902 , -1.18404339, -1.22874192,\n",
      "       -1.26440206, -1.29215372, -1.31287621, -1.32722613, -1.33565814,\n",
      "       -1.33843944, -1.33565813, -1.32722609, -1.31287616, -1.29215366,\n",
      "       -1.26440198, -1.22874181, -1.18404326, -1.12889004, -1.06153462,\n",
      "       -0.97984284, -0.88122627, -0.76256026, -0.62008484, -0.44928568,\n",
      "       -0.24475097])\n"
     ]
    },
    {
     "name": "stderr",
     "output_type": "stream",
     "text": [
      " 80%|████████  | 4/5 [00:02<00:00,  1.13it/s]"
     ]
    },
    {
     "name": "stdout",
     "output_type": "stream",
     "text": [
      "     fun: -2.1830442499794938\n",
      "     jac: array([ 4.30334118e-08,  1.57268344e-07,  3.92271739e-07,  5.08445954e-07,\n",
      "       -8.72836981e-07, -6.75751815e-07,  2.04216916e-07,  2.99146350e-07,\n",
      "        1.98392367e-07, -2.28299011e-07, -2.54578292e-07, -1.74395666e-07,\n",
      "       -1.86365518e-07, -1.96623793e-07, -3.25792987e-07, -3.82692319e-07,\n",
      "       -3.31238474e-07, -2.45789886e-07, -1.99056499e-07, -2.50738867e-07,\n",
      "       -3.50579754e-07, -5.58608201e-07, -5.09344934e-07, -8.39063136e-07,\n",
      "       -6.01860851e-07, -8.12188986e-07, -9.57348087e-07, -8.34617458e-07,\n",
      "       -9.68791134e-07, -1.22324895e-06, -1.18825214e-06, -1.12384238e-06,\n",
      "       -1.24944418e-06, -1.31712173e-06, -1.08001682e-06, -9.40916048e-07,\n",
      "       -1.01280921e-06, -7.99100037e-07, -5.25046560e-07, -7.18543111e-07,\n",
      "       -3.90687814e-07, -4.98797103e-07, -3.91482421e-07, -3.80087806e-07,\n",
      "       -3.24962360e-07, -2.59660001e-07, -2.07612236e-07, -2.68051844e-07,\n",
      "       -3.88147679e-07, -2.40893797e-07, -2.03074303e-07, -1.90131670e-07,\n",
      "       -1.87180962e-07, -2.07100120e-07,  6.61927149e-08,  4.70041679e-07,\n",
      "        7.14347903e-08, -5.98238876e-07, -9.04004546e-07,  5.18398398e-07,\n",
      "        3.95234352e-07,  1.57124815e-07,  4.22837975e-08])\n",
      " message: 'Optimization terminated successfully.'\n",
      "    nfev: 47\n",
      "    nhev: 562\n",
      "     nit: 32\n",
      "    njev: 47\n",
      "  status: 0\n",
      " success: True\n",
      "       x: array([-0.12778978, -0.24463208, -0.3514496 , -0.44908589, -0.53831204,\n",
      "       -0.61983268, -0.69429161, -0.76227684, -0.82432529, -0.88092695,\n",
      "       -0.93252883, -0.97953843, -1.02232702, -1.06123249, -1.0965621 ,\n",
      "       -1.12859486, -1.15758374, -1.18375766, -1.20732334, -1.22846688,\n",
      "       -1.24735526, -1.26413764, -1.27894655, -1.29189896, -1.30309713,\n",
      "       -1.31262953, -1.32057141, -1.3269855 , -1.33192246, -1.33542127,\n",
      "       -1.33750956, -1.33820383, -1.33750956, -1.33542126, -1.33192244,\n",
      "       -1.32698548, -1.32057139, -1.3126295 , -1.30309711, -1.29189892,\n",
      "       -1.27894651, -1.26413759, -1.24735521, -1.22846683, -1.20732328,\n",
      "       -1.18375759, -1.15758366, -1.12859478, -1.09656201, -1.06123239,\n",
      "       -1.02232691, -0.97953832, -0.93252871, -0.88092683, -0.82432515,\n",
      "       -0.76227671, -0.69429147, -0.61983255, -0.53831191, -0.44908578,\n",
      "       -0.3514495 , -0.244632  , -0.12778974])\n"
     ]
    },
    {
     "name": "stderr",
     "output_type": "stream",
     "text": [
      "100%|██████████| 5/5 [00:05<00:00,  1.15s/it]"
     ]
    },
    {
     "name": "stdout",
     "output_type": "stream",
     "text": [
      "     fun: -2.18308761762187\n",
      "     jac: array([-3.58148532e-10, -1.19137200e-10,  6.25882731e-10, -4.18368382e-10,\n",
      "       -1.28780216e-10,  2.48656588e-10,  4.50813067e-11, -2.66327824e-10,\n",
      "       -1.59314884e-10, -1.22322940e-10,  5.97886046e-11, -9.44033046e-12,\n",
      "        2.45129750e-11, -6.45421556e-10,  9.38328582e-12, -6.69957652e-10,\n",
      "        1.56103602e-11, -1.23129278e-10,  1.85922448e-10, -8.17620797e-12,\n",
      "        9.15780382e-10, -6.03698300e-10, -1.74338839e-10, -9.66802895e-10,\n",
      "       -7.75336762e-10, -5.85674512e-11, -4.31164200e-10, -4.94113448e-10,\n",
      "        3.16620433e-10,  6.87296045e-10,  2.95219566e-10, -9.56342054e-11,\n",
      "        1.44944282e-10, -1.62700617e-11,  2.90187504e-10, -7.72695477e-10,\n",
      "       -5.48246479e-10,  3.69394986e-10, -1.68056024e-09,  1.88436723e-09,\n",
      "       -7.34705356e-10, -1.11360505e-09,  5.45477856e-10, -2.03463232e-10,\n",
      "       -1.10926287e-09, -1.06239160e-10,  8.32943783e-10,  3.34278129e-10,\n",
      "       -5.83771642e-10, -3.43826772e-10, -1.63217009e-11,  4.92840517e-11,\n",
      "       -4.08366603e-10, -4.59925857e-10, -1.62847650e-10,  1.00962879e-10,\n",
      "       -2.93934148e-12,  8.77518162e-11,  1.19642817e-10, -2.98203758e-10,\n",
      "       -2.22073005e-10, -4.61193192e-10,  6.77011060e-11,  2.80988698e-10,\n",
      "        4.40294126e-10, -3.45307119e-10, -3.74381469e-10, -2.55802919e-10,\n",
      "        3.13447758e-10,  9.87241348e-11, -3.96367018e-10, -6.65868933e-10,\n",
      "       -4.48494359e-10,  3.50863115e-10,  4.17535651e-10,  2.36609883e-10,\n",
      "        2.42707625e-10, -3.40030903e-11, -2.20125256e-10, -9.27805402e-11,\n",
      "        3.81895797e-10, -3.08075806e-10, -8.47426459e-10,  8.97120832e-10,\n",
      "        1.30977877e-09, -1.35079902e-09, -3.38420115e-10,  8.62243093e-10,\n",
      "       -1.67188690e-09, -1.51597177e-10,  1.13014367e-09, -1.19636501e-09,\n",
      "        8.92154089e-10, -5.95298881e-10,  7.75496492e-10,  7.89383416e-10,\n",
      "        5.88757709e-10, -8.74421299e-11,  6.85926749e-11,  6.63732343e-10,\n",
      "        2.07726806e-10, -7.39225401e-10, -3.32798421e-10, -1.78393463e-11,\n",
      "       -3.37142382e-10,  8.14718010e-10, -2.35537114e-10,  6.73556270e-10,\n",
      "        6.29614895e-10,  2.67252796e-10, -3.95626643e-10,  2.94506693e-10,\n",
      "       -7.07012823e-10,  2.41997717e-10,  2.53720375e-10,  4.99671717e-10,\n",
      "        3.38777582e-11,  1.65087475e-10,  1.23310081e-10, -4.51754859e-10,\n",
      "       -6.30791183e-11,  5.99283932e-10, -2.15937882e-10, -3.45631475e-11,\n",
      "        6.03409479e-10, -2.48426713e-10, -4.96143536e-10])\n",
      " message: 'Warning: Desired error not necessarily achieved due to precision loss.'\n",
      "    nfev: 86\n",
      "    nhev: 1155\n",
      "     nit: 30\n",
      "    njev: 75\n",
      "  status: 2\n",
      " success: False\n",
      "       x: array([-0.06531584, -0.12777362, -0.18749654, -0.24460243, -0.29920395,\n",
      "       -0.35140882, -0.40132003, -0.44903604, -0.494651  , -0.53825489,\n",
      "       -0.57993373, -0.61976975, -0.65784154, -0.69422421, -0.72898953,\n",
      "       -0.76220609, -0.79393942, -0.82425213, -0.85320401, -0.88085219,\n",
      "       -0.90725121, -0.93245314, -0.95650771, -0.97946238, -1.00136243,\n",
      "       -1.02225105, -1.04216948, -1.06115699, -1.07925105, -1.09648735,\n",
      "       -1.1128999 , -1.12852108, -1.14338171, -1.15751109, -1.17093712,\n",
      "       -1.18368627, -1.1957837 , -1.20725327, -1.21811761, -1.22839815,\n",
      "       -1.23811518, -1.24728786, -1.2559343 , -1.26407154, -1.27171565,\n",
      "       -1.2788817 , -1.28558383, -1.29183527, -1.29764834, -1.30303451,\n",
      "       -1.30800441, -1.31256785, -1.31673382, -1.32051055, -1.32390549,\n",
      "       -1.32692533, -1.32957603, -1.33186283, -1.33379023, -1.33536203,\n",
      "       -1.33658134, -1.33745056, -1.33797141, -1.33814491, -1.33797141,\n",
      "       -1.33745056, -1.33658134, -1.33536203, -1.33379022, -1.33186282,\n",
      "       -1.32957603, -1.32692532, -1.32390548, -1.32051054, -1.31673381,\n",
      "       -1.31256783, -1.3080044 , -1.30303449, -1.29764832, -1.29183525,\n",
      "       -1.28558381, -1.27888168, -1.27171563, -1.26407152, -1.25593427,\n",
      "       -1.24728783, -1.23811515, -1.22839812, -1.21811757, -1.20725323,\n",
      "       -1.19578366, -1.18368623, -1.17093708, -1.15751105, -1.14338166,\n",
      "       -1.12852103, -1.11289985, -1.0964873 , -1.07925099, -1.06115693,\n",
      "       -1.04216942, -1.02225099, -1.00136236, -0.97946232, -0.95650765,\n",
      "       -0.93245308, -0.90725114, -0.88085212, -0.85320394, -0.82425206,\n",
      "       -0.79393935, -0.76220602, -0.72898946, -0.69422414, -0.65784147,\n",
      "       -0.61976968, -0.57993366, -0.53825482, -0.49465094, -0.44903599,\n",
      "       -0.40131997, -0.35140877, -0.29920391, -0.24460239, -0.18749651,\n",
      "       -0.1277736 , -0.06531584])\n"
     ]
    },
    {
     "name": "stderr",
     "output_type": "stream",
     "text": [
      "\n"
     ]
    },
    {
     "data": {
      "text/plain": "<matplotlib.legend.Legend at 0x7f04f53ec9a0>"
     },
     "execution_count": 120,
     "metadata": {},
     "output_type": "execute_result"
    },
    {
     "data": {
      "text/plain": "<Figure size 432x288 with 1 Axes>",
      "image/png": "[encoded data removed]"
     },
     "metadata": {
      "needs_background": "light"
     },
     "output_type": "display_data"
    }
   ],
   "source": [
    "plt.figure()\n",
    "plt.grid('on')\n",
    "Ns = 2 ** np.arange(3, 8) - 1\n",
    "\n",
    "for N in tqdm(Ns):\n",
    "    JJ_ncg, uu_ncg, LL_ncg = ncg_solver(N)\n",
    "    plt.plot(range(len(JJ_ncg)), JJ_ncg - JJ_ncg_fine_small_tor[-1], label=f'{N}')\n",
    "plt.gca().set(\n",
    "    xlabel='iteration',\n",
    "    ylabel='$J[u^k]-J^*$',\n",
    "    yscale='log',\n",
    ")\n",
    "plt.title('Convergence plot of the Newton-CG method.')\n",
    "plt.legend(title='N')\n",
    "# plt.savefig(f'5b-alpha-{alpha}.eps')"
   ],
   "metadata": {
    "collapsed": false,
    "pycharm": {
     "name": "#%%\n"
    }
   }
  },
  {
   "cell_type": "code",
   "execution_count": 121,
   "outputs": [
    {
     "name": "stdout",
     "output_type": "stream",
     "text": [
      "[2.8456386725874867, 2.9096357415127816, 2.9439180555071, 2.9368742135277373, 2.934988328891566, 2.9338623609714505, 2.932988254274608, 2.927909247236858, 2.9244856878113206, 2.9234585941266213]\n"
     ]
    },
    {
     "data": {
      "text/plain": "<Figure size 432x288 with 1 Axes>",
      "image/png": "[encoded data removed]"
     },
     "metadata": {
      "needs_background": "light"
     },
     "output_type": "display_data"
    }
   ],
   "source": [
    "# Observe a cusp in the solutions that vanilla Newton-CG produce\n",
    "plt.figure()\n",
    "for i in 0, 1, 2:\n",
    "    plt.plot(np.linspace(0, 1, len(uu_ncg[i])+2), np.hstack([0, uu_ncg[i], 0]), label=f'$u^{i}$')\n",
    "plt.legend()\n",
    "print(LL_ncg[:10])\n",
    "# plt.savefig(f'5b-alpha-{alpha}-cusp.eps')"
   ],
   "metadata": {
    "collapsed": false,
    "pycharm": {
     "name": "#%%\n"
    }
   }
  },
  {
   "cell_type": "code",
   "execution_count": null,
   "outputs": [],
   "source": [],
   "metadata": {
    "collapsed": false,
    "pycharm": {
     "name": "#%%\n"
    }
   }
  }
 ],
 "metadata": {
  "kernelspec": {
   "display_name": "Python 3",
   "language": "python",
   "name": "python3"
  },
  "language_info": {
   "codemirror_mode": {
    "name": "ipython",
    "version": 3
   },
   "file_extension": ".py",
   "mimetype": "text/x-python",
   "name": "python",
   "nbconvert_exporter": "python",
   "pygments_lexer": "ipython3",
   "version": "3.8.10"
  }
 },
 "nbformat": 4,
 "nbformat_minor": 5
}